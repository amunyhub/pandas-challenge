{
 "cells": [
  {
   "cell_type": "markdown",
   "metadata": {},
   "source": [
    "### Note\n",
    "* Instructions have been included for each segment. You do not have to follow them exactly, but they are included to help you think through the steps."
   ]
  },
  {
   "cell_type": "code",
   "execution_count": 3,
   "metadata": {},
   "outputs": [],
   "source": [
    "# Dependencies and Setup\n",
    "import pandas as pd\n",
    "import numpy as np\n",
    "\n",
    "# File to Load (Remember to Change These)\n",
    "file_to_load = \"purchase_data.csv\"\n",
    "\n",
    "# Read Purchasing File and store into Pandas data frame\n",
    "purchase_data= pd.read_csv(file_to_load)"
   ]
  },
  {
   "cell_type": "code",
   "execution_count": null,
   "metadata": {},
   "outputs": [],
   "source": [
    "#variables"
   ]
  },
  {
   "cell_type": "code",
   "execution_count": 87,
   "metadata": {},
   "outputs": [],
   "source": [
    "# check to see if correct file linked-if yes, comment out\n",
    "#purchase_data"
   ]
  },
  {
   "cell_type": "markdown",
   "metadata": {},
   "source": [
    "## Player Count"
   ]
  },
  {
   "cell_type": "markdown",
   "metadata": {},
   "source": [
    "* Display the total number of players\n"
   ]
  },
  {
   "cell_type": "code",
   "execution_count": 86,
   "metadata": {},
   "outputs": [
    {
     "data": {
      "text/html": [
       "<div>\n",
       "<style scoped>\n",
       "    .dataframe tbody tr th:only-of-type {\n",
       "        vertical-align: middle;\n",
       "    }\n",
       "\n",
       "    .dataframe tbody tr th {\n",
       "        vertical-align: top;\n",
       "    }\n",
       "\n",
       "    .dataframe thead th {\n",
       "        text-align: right;\n",
       "    }\n",
       "</style>\n",
       "<table border=\"1\" class=\"dataframe\">\n",
       "  <thead>\n",
       "    <tr style=\"text-align: right;\">\n",
       "      <th></th>\n",
       "      <th>Total Players</th>\n",
       "    </tr>\n",
       "  </thead>\n",
       "  <tbody>\n",
       "    <tr>\n",
       "      <th>0</th>\n",
       "      <td>576</td>\n",
       "    </tr>\n",
       "  </tbody>\n",
       "</table>\n",
       "</div>"
      ],
      "text/plain": [
       "   Total Players\n",
       "0            576"
      ]
     },
     "execution_count": 86,
     "metadata": {},
     "output_type": "execute_result"
    }
   ],
   "source": [
    "#calculation for total number of players\n",
    "total_players=purchase_data[\"SN\"].value_counts().count()\n",
    "player_count_df=pd.DataFrame({\"Total Players\":[total_players]})\n",
    "player_count=player_count_df.iloc[0,0]\n",
    "player_count_df"
   ]
  },
  {
   "cell_type": "code",
   "execution_count": 314,
   "metadata": {},
   "outputs": [
    {
     "data": {
      "text/plain": [
       "576"
      ]
     },
     "execution_count": 314,
     "metadata": {},
     "output_type": "execute_result"
    }
   ],
   "source": [
    "player_count=player_count_df.iloc[0,0]"
   ]
  },
  {
   "cell_type": "markdown",
   "metadata": {},
   "source": [
    "## Purchasing Analysis (Total)"
   ]
  },
  {
   "cell_type": "markdown",
   "metadata": {},
   "source": [
    "* Run basic calculations to obtain number of unique items, average price, etc.\n",
    "\n",
    "\n",
    "* Create a summary data frame to hold the results\n",
    "\n",
    "\n",
    "* Optional: give the displayed data cleaner formatting\n",
    "\n",
    "\n",
    "* Display the summary data frame\n"
   ]
  },
  {
   "cell_type": "code",
   "execution_count": 83,
   "metadata": {
    "scrolled": true
   },
   "outputs": [
    {
     "data": {
      "text/plain": [
       "179"
      ]
     },
     "execution_count": 83,
     "metadata": {},
     "output_type": "execute_result"
    }
   ],
   "source": [
    "#calculations for num of unique items\n",
    "unique_items=purchase_data[\"Item ID\"].value_counts().count()\n",
    "unique_items"
   ]
  },
  {
   "cell_type": "code",
   "execution_count": 78,
   "metadata": {},
   "outputs": [
    {
     "data": {
      "text/plain": [
       "3.050987179487176"
      ]
     },
     "execution_count": 78,
     "metadata": {},
     "output_type": "execute_result"
    }
   ],
   "source": [
    "#calculation for avergae cost of each item\n",
    "avg_price=purchase_data[\"Price\"].mean()\n",
    "avg_price"
   ]
  },
  {
   "cell_type": "code",
   "execution_count": 75,
   "metadata": {},
   "outputs": [
    {
     "data": {
      "text/plain": [
       "780"
      ]
     },
     "execution_count": 75,
     "metadata": {},
     "output_type": "execute_result"
    }
   ],
   "source": [
    "#calculations for # of purchases\n",
    "num_purchases=purchase_data[\"Price\"].count()\n",
    "num_purchases"
   ]
  },
  {
   "cell_type": "code",
   "execution_count": 72,
   "metadata": {},
   "outputs": [
    {
     "data": {
      "text/plain": [
       "2379.77"
      ]
     },
     "execution_count": 72,
     "metadata": {},
     "output_type": "execute_result"
    }
   ],
   "source": [
    "#calculation for total revenue\n",
    "total_revenue=purchase_data[\"Price\"].sum()\n",
    "total_revenue"
   ]
  },
  {
   "cell_type": "code",
   "execution_count": 93,
   "metadata": {},
   "outputs": [
    {
     "data": {
      "text/html": [
       "<div>\n",
       "<style scoped>\n",
       "    .dataframe tbody tr th:only-of-type {\n",
       "        vertical-align: middle;\n",
       "    }\n",
       "\n",
       "    .dataframe tbody tr th {\n",
       "        vertical-align: top;\n",
       "    }\n",
       "\n",
       "    .dataframe thead th {\n",
       "        text-align: right;\n",
       "    }\n",
       "</style>\n",
       "<table border=\"1\" class=\"dataframe\">\n",
       "  <thead>\n",
       "    <tr style=\"text-align: right;\">\n",
       "      <th></th>\n",
       "      <th>Number of Unique Items</th>\n",
       "      <th>Average Price</th>\n",
       "      <th>Number of Purchase</th>\n",
       "      <th>Total Revenue</th>\n",
       "    </tr>\n",
       "  </thead>\n",
       "  <tbody>\n",
       "    <tr>\n",
       "      <th>0</th>\n",
       "      <td>179</td>\n",
       "      <td>3.050987</td>\n",
       "      <td>780</td>\n",
       "      <td>2379.77</td>\n",
       "    </tr>\n",
       "  </tbody>\n",
       "</table>\n",
       "</div>"
      ],
      "text/plain": [
       "   Number of Unique Items  Average Price  Number of Purchase  Total Revenue\n",
       "0                     179       3.050987                 780        2379.77"
      ]
     },
     "execution_count": 93,
     "metadata": {},
     "output_type": "execute_result"
    }
   ],
   "source": [
    "#how to display the summary data frame\n",
    "purchase_analysis_df=pd.DataFrame({\n",
    "\"Number of Unique Items\": [unique_items],\n",
    "\"Average Price\": [avg_price],\n",
    "\"Number of Purchase\": [num_purchases],\n",
    "\"Total Revenue\": [total_revenue]}\n",
    " )\n",
    "purchase_analysis_df"
   ]
  },
  {
   "cell_type": "markdown",
   "metadata": {},
   "source": [
    "## Gender Demographics"
   ]
  },
  {
   "cell_type": "markdown",
   "metadata": {},
   "source": [
    "* Percentage and Count of Male Players\n",
    "\n",
    "\n",
    "* Percentage and Count of Female Players\n",
    "\n",
    "\n",
    "* Percentage and Count of Other / Non-Disclosed\n",
    "\n",
    "\n"
   ]
  },
  {
   "cell_type": "code",
   "execution_count": 428,
   "metadata": {},
   "outputs": [
    {
     "data": {
      "text/html": [
       "<div>\n",
       "<style scoped>\n",
       "    .dataframe tbody tr th:only-of-type {\n",
       "        vertical-align: middle;\n",
       "    }\n",
       "\n",
       "    .dataframe tbody tr th {\n",
       "        vertical-align: top;\n",
       "    }\n",
       "\n",
       "    .dataframe thead th {\n",
       "        text-align: right;\n",
       "    }\n",
       "</style>\n",
       "<table border=\"1\" class=\"dataframe\">\n",
       "  <thead>\n",
       "    <tr style=\"text-align: right;\">\n",
       "      <th></th>\n",
       "      <th>Gender</th>\n",
       "    </tr>\n",
       "  </thead>\n",
       "  <tbody>\n",
       "    <tr>\n",
       "      <th>Male</th>\n",
       "      <td>484</td>\n",
       "    </tr>\n",
       "    <tr>\n",
       "      <th>Female</th>\n",
       "      <td>81</td>\n",
       "    </tr>\n",
       "    <tr>\n",
       "      <th>Other / Non-Disclosed</th>\n",
       "      <td>11</td>\n",
       "    </tr>\n",
       "  </tbody>\n",
       "</table>\n",
       "</div>"
      ],
      "text/plain": [
       "                       Gender\n",
       "Male                      484\n",
       "Female                     81\n",
       "Other / Non-Disclosed      11"
      ]
     },
     "execution_count": 428,
     "metadata": {},
     "output_type": "execute_result"
    }
   ],
   "source": [
    "# % and count of male and female players\n",
    "\n",
    "#create a new table with just SN and gender to make sure you do not double count players\n",
    "\n",
    "grouped_SN = purchase_data[['SN','Gender']]\n",
    "unique_purchase_df = grouped_SN.drop_duplicates(subset='SN')\n",
    "\n",
    "gender_demographics = unique_purchase_df[\"Gender\"].value_counts()\n",
    "gender_demographics=pd.DataFrame(gender_demographics)\n",
    "gender_demographics"
   ]
  },
  {
   "cell_type": "code",
   "execution_count": 441,
   "metadata": {},
   "outputs": [],
   "source": [
    "male_count=gender_demographics.loc[\"Male\",\"Gender\"]\n",
    "#print(male_count)\n",
    "male_percent=(male_count/total_players)\n",
    "#print(male_percent)"
   ]
  },
  {
   "cell_type": "code",
   "execution_count": 442,
   "metadata": {},
   "outputs": [],
   "source": [
    "female_count=gender_demographics.loc[\"Female\",\"Gender\"]\n",
    "#print(female_count)\n",
    "female_percent=(female_count/total_players)\n",
    "#print(female_percent)\n"
   ]
  },
  {
   "cell_type": "code",
   "execution_count": 443,
   "metadata": {},
   "outputs": [],
   "source": [
    "other_count=gender_demographics.loc[\"Other / Non-Disclosed\",\"Gender\"]\n",
    "#print(other_count)\n",
    "other_percent=(other_count/total_players)\n",
    "#print(other_percent)"
   ]
  },
  {
   "cell_type": "code",
   "execution_count": 444,
   "metadata": {},
   "outputs": [
    {
     "data": {
      "text/html": [
       "<div>\n",
       "<style scoped>\n",
       "    .dataframe tbody tr th:only-of-type {\n",
       "        vertical-align: middle;\n",
       "    }\n",
       "\n",
       "    .dataframe tbody tr th {\n",
       "        vertical-align: top;\n",
       "    }\n",
       "\n",
       "    .dataframe thead th {\n",
       "        text-align: right;\n",
       "    }\n",
       "</style>\n",
       "<table border=\"1\" class=\"dataframe\">\n",
       "  <thead>\n",
       "    <tr style=\"text-align: right;\">\n",
       "      <th></th>\n",
       "      <th>Total Count</th>\n",
       "      <th>Percent of Players</th>\n",
       "    </tr>\n",
       "    <tr>\n",
       "      <th>Gender</th>\n",
       "      <th></th>\n",
       "      <th></th>\n",
       "    </tr>\n",
       "  </thead>\n",
       "  <tbody>\n",
       "    <tr>\n",
       "      <th>Male</th>\n",
       "      <td>484</td>\n",
       "      <td>84.03%</td>\n",
       "    </tr>\n",
       "    <tr>\n",
       "      <th>Female</th>\n",
       "      <td>81</td>\n",
       "      <td>14.06%</td>\n",
       "    </tr>\n",
       "    <tr>\n",
       "      <th>Other/Non-Disclosed</th>\n",
       "      <td>11</td>\n",
       "      <td>1.91%</td>\n",
       "    </tr>\n",
       "  </tbody>\n",
       "</table>\n",
       "</div>"
      ],
      "text/plain": [
       "                     Total Count Percent of Players\n",
       "Gender                                             \n",
       "Male                         484             84.03%\n",
       "Female                        81             14.06%\n",
       "Other/Non-Disclosed           11              1.91%"
      ]
     },
     "execution_count": 444,
     "metadata": {},
     "output_type": "execute_result"
    }
   ],
   "source": [
    "demo_sum_df=pd.DataFrame({\n",
    "    \"Total Count\":[male_count,female_count,other_count],\n",
    "    \"Percent of Players\":[male_percent,female_percent,other_percent],\n",
    "    \"Gender\": [\"Male\",\"Female\",\"Other/Non-Disclosed\"]})\n",
    "\n",
    "demo_sum_df['Percent of Players'] = demo_sum_df['Percent of Players'].map(\"{:,.2%}\".format)\n",
    "\n",
    "demographics_summary_df=demo_sum_df.set_index(\"Gender\")\n",
    "demographics_summary_df"
   ]
  },
  {
   "cell_type": "markdown",
   "metadata": {},
   "source": [
    "\n",
    "## Purchasing Analysis (Gender)"
   ]
  },
  {
   "cell_type": "markdown",
   "metadata": {},
   "source": [
    "* Run basic calculations to obtain purchase count, avg. purchase price, avg. purchase total per person etc. by gender\n",
    "\n",
    "\n",
    "\n",
    "\n",
    "* Create a summary data frame to hold the results\n",
    "\n",
    "\n",
    "* Optional: give the displayed data cleaner formatting\n",
    "\n",
    "\n",
    "* Display the summary data frame"
   ]
  },
  {
   "cell_type": "code",
   "execution_count": 409,
   "metadata": {},
   "outputs": [
    {
     "data": {
      "text/html": [
       "<div>\n",
       "<style scoped>\n",
       "    .dataframe tbody tr th:only-of-type {\n",
       "        vertical-align: middle;\n",
       "    }\n",
       "\n",
       "    .dataframe tbody tr th {\n",
       "        vertical-align: top;\n",
       "    }\n",
       "\n",
       "    .dataframe thead th {\n",
       "        text-align: right;\n",
       "    }\n",
       "</style>\n",
       "<table border=\"1\" class=\"dataframe\">\n",
       "  <thead>\n",
       "    <tr style=\"text-align: right;\">\n",
       "      <th></th>\n",
       "      <th>Purchase Count</th>\n",
       "      <th>Average Purchase Price</th>\n",
       "      <th>Total Purchase Value</th>\n",
       "      <th>Avg Total Purchase Per Person</th>\n",
       "    </tr>\n",
       "    <tr>\n",
       "      <th>Gender</th>\n",
       "      <th></th>\n",
       "      <th></th>\n",
       "      <th></th>\n",
       "      <th></th>\n",
       "    </tr>\n",
       "  </thead>\n",
       "  <tbody>\n",
       "    <tr>\n",
       "      <th>Female</th>\n",
       "      <td>113</td>\n",
       "      <td>3.203009</td>\n",
       "      <td>361.94</td>\n",
       "      <td>4.468395</td>\n",
       "    </tr>\n",
       "    <tr>\n",
       "      <th>Male</th>\n",
       "      <td>652</td>\n",
       "      <td>3.017853</td>\n",
       "      <td>1967.64</td>\n",
       "      <td>4.065372</td>\n",
       "    </tr>\n",
       "    <tr>\n",
       "      <th>Other / Non-Disclosed</th>\n",
       "      <td>15</td>\n",
       "      <td>3.346000</td>\n",
       "      <td>50.19</td>\n",
       "      <td>4.562727</td>\n",
       "    </tr>\n",
       "  </tbody>\n",
       "</table>\n",
       "</div>"
      ],
      "text/plain": [
       "                       Purchase Count  Average Purchase Price  \\\n",
       "Gender                                                          \n",
       "Female                            113                3.203009   \n",
       "Male                              652                3.017853   \n",
       "Other / Non-Disclosed              15                3.346000   \n",
       "\n",
       "                       Total Purchase Value  Avg Total Purchase Per Person  \n",
       "Gender                                                                      \n",
       "Female                               361.94                       4.468395  \n",
       "Male                                1967.64                       4.065372  \n",
       "Other / Non-Disclosed                 50.19                       4.562727  "
      ]
     },
     "execution_count": 409,
     "metadata": {},
     "output_type": "execute_result"
    }
   ],
   "source": [
    "# Purchase count calculations by gender\n",
    "group_purchase_gender_df = purchase_data.groupby([\"Gender\"])\n",
    "#print(group_purchase_gender_df)\n",
    "group_purchase_gender_df.count()\n",
    "\n",
    "#num of purchase\n",
    "num_purchases=group_purchase_gender_df[\"Item ID\"].count()\n",
    "#print(num_purchases)\n",
    "\n",
    "#avg purchase price by gender\n",
    "avg_purchases=group_purchase_gender_df[\"Price\"].mean()\n",
    "#print(avg_purchases)\n",
    "\n",
    "#total purchase value by gender\n",
    "total_purchase_value=group_purchase_gender_df[\"Price\"].sum()\n",
    "#print(total_purchase_value)\n",
    "\n",
    "#avg total per person by gender\n",
    "total_purchase_g_df=pd.DataFrame(total_purchase_gender)\n",
    "total_purchase_g_df\n",
    "\n",
    "female_pp=(total_purchase_g_df.loc[\"Female\",\"Price\"])/female_count\n",
    "#print(female_pp)\n",
    "\n",
    "male_pp=(total_purchase_g_df.loc[\"Male\",\"Price\"])/male_count\n",
    "#print(male_pp)\n",
    "\n",
    "other_pp=(total_purchase_g_df.loc[\"Other / Non-Disclosed\",\"Price\"])/other_count\n",
    "#print(other_pp)\n",
    "\n",
    "#create summary table for Purchase Analysis by Gender\n",
    "\n",
    "purchase_by_gender_summary=pd.DataFrame({\n",
    "    \"Purchase Count\":num_purchases,\n",
    "    \"Average Purchase Price\": avg_purchases,\n",
    "    \"Total Purchase Value\": total_purchase_value,\n",
    "    \"Avg Total Purchase Per Person\": [female_pp,male_pp,other_pp]\n",
    "})\n",
    "\n",
    "#summary table\n",
    "purchase_by_gender_summary"
   ]
  },
  {
   "cell_type": "markdown",
   "metadata": {},
   "source": [
    "## Age Demographics"
   ]
  },
  {
   "cell_type": "markdown",
   "metadata": {},
   "source": [
    "* Establish bins for ages\n",
    "\n",
    "\n",
    "* Categorize the existing players using the age bins. Hint: use pd.cut()\n",
    "\n",
    "\n",
    "* Calculate the numbers and percentages by age group\n",
    "\n",
    "\n",
    "* Create a summary data frame to hold the results\n",
    "\n",
    "\n",
    "* Optional: round the percentage column to two decimal points\n",
    "\n",
    "\n",
    "* Display Age Demographics Table\n"
   ]
  },
  {
   "cell_type": "code",
   "execution_count": 493,
   "metadata": {},
   "outputs": [],
   "source": [
    "#Make new table with no duplicates so age of player not  double counted\n",
    "\n",
    "grouped_SN = purchase_data[['SN','Gender']]\n",
    "unique_purchase_df = grouped_SN.drop_duplicates(subset='SN')\n",
    "\n",
    "\n",
    "grouped_age = purchase_data [['Age','SN']]\n",
    "unique_age_df = grouped_age.drop_duplicates(subset='SN')\n",
    "#unique_age_df"
   ]
  },
  {
   "cell_type": "code",
   "execution_count": 494,
   "metadata": {
    "scrolled": true
   },
   "outputs": [
    {
     "data": {
      "text/plain": [
       "0      20-24\n",
       "1        40+\n",
       "2      20-24\n",
       "3      20-24\n",
       "4      20-24\n",
       "       ...  \n",
       "773    20-24\n",
       "774    10-14\n",
       "775    20-24\n",
       "777    20-24\n",
       "778      <10\n",
       "Name: Age, Length: 576, dtype: category\n",
       "Categories (8, object): ['<10' < '10-14' < '15-19' < '20-24' < '25-29' < '30-34' < '35-39' < '40+']"
      ]
     },
     "execution_count": 494,
     "metadata": {},
     "output_type": "execute_result"
    }
   ],
   "source": [
    "#find max (45)\n",
    "max_age=unique_age_df[\"Age\"].max()\n",
    "\n",
    "#create bins and labels\n",
    "bins=[0,9,14,19,24,29,34,39,45]\n",
    "\n",
    "age_labels=[\"<10\",\"10-14\",\"15-19\",\"20-24\",\"25-29\",\"30-34\",\"35-39\",\"40+\"]\n",
    "\n",
    "#use unique_age_df to make sure people are not double counted\n",
    "pd.cut(unique_age_df[\"Age\"],bins,labels=age_labels)"
   ]
  },
  {
   "cell_type": "code",
   "execution_count": 529,
   "metadata": {},
   "outputs": [
    {
     "name": "stderr",
     "output_type": "stream",
     "text": [
      "<ipython-input-529-ee2d5395c32c>:1: SettingWithCopyWarning: \n",
      "A value is trying to be set on a copy of a slice from a DataFrame.\n",
      "Try using .loc[row_indexer,col_indexer] = value instead\n",
      "\n",
      "See the caveats in the documentation: https://pandas.pydata.org/pandas-docs/stable/user_guide/indexing.html#returning-a-view-versus-a-copy\n",
      "  unique_age_df[\"Age Group\"] = pd.cut(unique_age_df[\"Age\"],bins,labels=age_labels)\n"
     ]
    },
    {
     "data": {
      "text/html": [
       "<div>\n",
       "<style scoped>\n",
       "    .dataframe tbody tr th:only-of-type {\n",
       "        vertical-align: middle;\n",
       "    }\n",
       "\n",
       "    .dataframe tbody tr th {\n",
       "        vertical-align: top;\n",
       "    }\n",
       "\n",
       "    .dataframe thead th {\n",
       "        text-align: right;\n",
       "    }\n",
       "</style>\n",
       "<table border=\"1\" class=\"dataframe\">\n",
       "  <thead>\n",
       "    <tr style=\"text-align: right;\">\n",
       "      <th></th>\n",
       "      <th>Total Count</th>\n",
       "      <th>Percent of Total Players</th>\n",
       "    </tr>\n",
       "    <tr>\n",
       "      <th>Age Group</th>\n",
       "      <th></th>\n",
       "      <th></th>\n",
       "    </tr>\n",
       "  </thead>\n",
       "  <tbody>\n",
       "    <tr>\n",
       "      <th>&lt;10</th>\n",
       "      <td>17</td>\n",
       "      <td>2.95%</td>\n",
       "    </tr>\n",
       "    <tr>\n",
       "      <th>10-14</th>\n",
       "      <td>22</td>\n",
       "      <td>3.82%</td>\n",
       "    </tr>\n",
       "    <tr>\n",
       "      <th>15-19</th>\n",
       "      <td>107</td>\n",
       "      <td>18.58%</td>\n",
       "    </tr>\n",
       "    <tr>\n",
       "      <th>20-24</th>\n",
       "      <td>258</td>\n",
       "      <td>44.79%</td>\n",
       "    </tr>\n",
       "    <tr>\n",
       "      <th>25-29</th>\n",
       "      <td>77</td>\n",
       "      <td>13.37%</td>\n",
       "    </tr>\n",
       "    <tr>\n",
       "      <th>30-34</th>\n",
       "      <td>52</td>\n",
       "      <td>9.03%</td>\n",
       "    </tr>\n",
       "    <tr>\n",
       "      <th>35-39</th>\n",
       "      <td>31</td>\n",
       "      <td>5.38%</td>\n",
       "    </tr>\n",
       "    <tr>\n",
       "      <th>40+</th>\n",
       "      <td>12</td>\n",
       "      <td>2.08%</td>\n",
       "    </tr>\n",
       "  </tbody>\n",
       "</table>\n",
       "</div>"
      ],
      "text/plain": [
       "           Total Count Percent of Total Players\n",
       "Age Group                                      \n",
       "<10                 17                    2.95%\n",
       "10-14               22                    3.82%\n",
       "15-19              107                   18.58%\n",
       "20-24              258                   44.79%\n",
       "25-29               77                   13.37%\n",
       "30-34               52                    9.03%\n",
       "35-39               31                    5.38%\n",
       "40+                 12                    2.08%"
      ]
     },
     "execution_count": 529,
     "metadata": {},
     "output_type": "execute_result"
    }
   ],
   "source": [
    "unique_age_df[\"Age Group\"] = pd.cut(unique_age_df[\"Age\"],bins,labels=age_labels)\n",
    "unique_age_df.head()\n",
    "\n",
    "age_breakdown=unique_age_df.groupby(\"Age Group\")\n",
    "\n",
    "#print(age_breakdown[\"Age Group\"].count())\n",
    "\n",
    "age_breakdown[[\"Age Group\",\"SN\"]].count()\n",
    "\n",
    "age_demo_df=age_breakdown[[\"Age Group\",\"SN\"]].count()\n",
    "\n",
    "#get value without formatting\n",
    "\n",
    "age_demo_df['SN']=age_demo_df['SN']/(age_demo_df['SN'].sum())\n",
    "\n",
    "age_demo_df.columns=[\"Total Count\", \"Percent of Total Players\"]\n",
    "\n",
    "#age_demo_df\n",
    "\n",
    "#formatting\n",
    "age_demo_df['Percent of Total Players'] = age_demo_df['Percent of Total Players'].map(\"{:,.2%}\".format)\n",
    "age_demo_df\n"
   ]
  },
  {
   "cell_type": "markdown",
   "metadata": {},
   "source": [
    "## Purchasing Analysis (Age)"
   ]
  },
  {
   "cell_type": "markdown",
   "metadata": {},
   "source": [
    "* Bin the purchase_data data frame by age\n",
    "\n",
    "\n",
    "* Run basic calculations to obtain purchase count, avg. purchase price, avg. purchase total per person etc. in the table below\n",
    "\n",
    "\n",
    "* Create a summary data frame to hold the results\n",
    "\n",
    "\n",
    "* Optional: give the displayed data cleaner formatting\n",
    "\n",
    "\n",
    "* Display the summary data frame"
   ]
  },
  {
   "cell_type": "code",
   "execution_count": 582,
   "metadata": {},
   "outputs": [],
   "source": [
    "#pull columns you need Sn, Age, Price to make df with write columns\n",
    "\n",
    "age_price_holder = purchase_data.loc[:, [\"Age\", \"Price\", \"SN\"]]\n",
    "age_price_df=pd.DataFrame(age_price_holder)\n",
    "#age_price_df"
   ]
  },
  {
   "cell_type": "code",
   "execution_count": 574,
   "metadata": {},
   "outputs": [
    {
     "data": {
      "text/plain": [
       "<pandas.core.groupby.generic.DataFrameGroupBy object at 0x7fdf28fb23a0>"
      ]
     },
     "execution_count": 574,
     "metadata": {},
     "output_type": "execute_result"
    }
   ],
   "source": [
    "#create bins and labels\n",
    "bins=[0,9,14,19,24,29,34,39,45]\n",
    "\n",
    "age_labels=[\"<10\",\"10-14\",\"15-19\",\"20-24\",\"25-29\",\"30-34\",\"35-39\",\"40+\"]\n",
    "\n",
    "\n",
    "pd.cut(age_price_df[\"Age\"],bins,labels=age_labels)\n",
    "\n",
    "#place new group \"age group\" in data frame\n",
    "age_price_df[\"Age Group\"]=pd.cut(age_price_df[\"Age\"],bins,labels=age_labels)\n",
    "\n",
    "age_groupby_df=age_price_df.groupby(\"Age Group\")\n",
    "age_groupby_df"
   ]
  },
  {
   "cell_type": "code",
   "execution_count": 600,
   "metadata": {},
   "outputs": [],
   "source": [
    "#find out how many purchases fall into each bin=purchase count column\n",
    "pur_count_col=age_groupby_df[\"Price\"].count()\n",
    "#print(pur_count_col)"
   ]
  },
  {
   "cell_type": "code",
   "execution_count": 601,
   "metadata": {},
   "outputs": [],
   "source": [
    "#find out avg purchase price\n",
    "avg_pur_pr=age_groupby_df[\"Price\"].mean()\n",
    "#print(avg_pur_pr)"
   ]
  },
  {
   "cell_type": "code",
   "execution_count": 602,
   "metadata": {},
   "outputs": [],
   "source": [
    "#find out total purchase value\n",
    "tot_pur_value=age_groupby_df[\"Price\"].sum()\n",
    "#print(tot_pur_value)"
   ]
  },
  {
   "cell_type": "code",
   "execution_count": 604,
   "metadata": {},
   "outputs": [],
   "source": [
    "#find out avg total purchase per person\n",
    "avg_pur_pp=(age_groupby_df[\"Price\"].sum()/age_demo_df[\"Total Count\"])\n",
    "#print(avg_pur_pp)"
   ]
  },
  {
   "cell_type": "code",
   "execution_count": 823,
   "metadata": {},
   "outputs": [
    {
     "data": {
      "text/html": [
       "<style  type=\"text/css\" >\n",
       "</style><table id=\"T_de846a74_55ee_11eb_b943_367ddabf8417\" ><thead>    <tr>        <th class=\"blank level0\" ></th>        <th class=\"col_heading level0 col0\" >Purchase Count</th>        <th class=\"col_heading level0 col1\" >Average Purchase Price</th>        <th class=\"col_heading level0 col2\" >Total Purchase Value</th>        <th class=\"col_heading level0 col3\" >Avg Total Purchase per Person</th>    </tr>    <tr>        <th class=\"index_name level0\" >Age Group</th>        <th class=\"blank\" ></th>        <th class=\"blank\" ></th>        <th class=\"blank\" ></th>        <th class=\"blank\" ></th>    </tr></thead><tbody>\n",
       "                <tr>\n",
       "                        <th id=\"T_de846a74_55ee_11eb_b943_367ddabf8417level0_row0\" class=\"row_heading level0 row0\" ><10</th>\n",
       "                        <td id=\"T_de846a74_55ee_11eb_b943_367ddabf8417row0_col0\" class=\"data row0 col0\" >23</td>\n",
       "                        <td id=\"T_de846a74_55ee_11eb_b943_367ddabf8417row0_col1\" class=\"data row0 col1\" >$3.35</td>\n",
       "                        <td id=\"T_de846a74_55ee_11eb_b943_367ddabf8417row0_col2\" class=\"data row0 col2\" >$77.13</td>\n",
       "                        <td id=\"T_de846a74_55ee_11eb_b943_367ddabf8417row0_col3\" class=\"data row0 col3\" >$4.54</td>\n",
       "            </tr>\n",
       "            <tr>\n",
       "                        <th id=\"T_de846a74_55ee_11eb_b943_367ddabf8417level0_row1\" class=\"row_heading level0 row1\" >10-14</th>\n",
       "                        <td id=\"T_de846a74_55ee_11eb_b943_367ddabf8417row1_col0\" class=\"data row1 col0\" >28</td>\n",
       "                        <td id=\"T_de846a74_55ee_11eb_b943_367ddabf8417row1_col1\" class=\"data row1 col1\" >$2.96</td>\n",
       "                        <td id=\"T_de846a74_55ee_11eb_b943_367ddabf8417row1_col2\" class=\"data row1 col2\" >$82.78</td>\n",
       "                        <td id=\"T_de846a74_55ee_11eb_b943_367ddabf8417row1_col3\" class=\"data row1 col3\" >$3.76</td>\n",
       "            </tr>\n",
       "            <tr>\n",
       "                        <th id=\"T_de846a74_55ee_11eb_b943_367ddabf8417level0_row2\" class=\"row_heading level0 row2\" >15-19</th>\n",
       "                        <td id=\"T_de846a74_55ee_11eb_b943_367ddabf8417row2_col0\" class=\"data row2 col0\" >136</td>\n",
       "                        <td id=\"T_de846a74_55ee_11eb_b943_367ddabf8417row2_col1\" class=\"data row2 col1\" >$3.04</td>\n",
       "                        <td id=\"T_de846a74_55ee_11eb_b943_367ddabf8417row2_col2\" class=\"data row2 col2\" >$412.89</td>\n",
       "                        <td id=\"T_de846a74_55ee_11eb_b943_367ddabf8417row2_col3\" class=\"data row2 col3\" >$3.86</td>\n",
       "            </tr>\n",
       "            <tr>\n",
       "                        <th id=\"T_de846a74_55ee_11eb_b943_367ddabf8417level0_row3\" class=\"row_heading level0 row3\" >20-24</th>\n",
       "                        <td id=\"T_de846a74_55ee_11eb_b943_367ddabf8417row3_col0\" class=\"data row3 col0\" >365</td>\n",
       "                        <td id=\"T_de846a74_55ee_11eb_b943_367ddabf8417row3_col1\" class=\"data row3 col1\" >$3.05</td>\n",
       "                        <td id=\"T_de846a74_55ee_11eb_b943_367ddabf8417row3_col2\" class=\"data row3 col2\" >$1,114.06</td>\n",
       "                        <td id=\"T_de846a74_55ee_11eb_b943_367ddabf8417row3_col3\" class=\"data row3 col3\" >$4.32</td>\n",
       "            </tr>\n",
       "            <tr>\n",
       "                        <th id=\"T_de846a74_55ee_11eb_b943_367ddabf8417level0_row4\" class=\"row_heading level0 row4\" >25-29</th>\n",
       "                        <td id=\"T_de846a74_55ee_11eb_b943_367ddabf8417row4_col0\" class=\"data row4 col0\" >101</td>\n",
       "                        <td id=\"T_de846a74_55ee_11eb_b943_367ddabf8417row4_col1\" class=\"data row4 col1\" >$2.90</td>\n",
       "                        <td id=\"T_de846a74_55ee_11eb_b943_367ddabf8417row4_col2\" class=\"data row4 col2\" >$293.00</td>\n",
       "                        <td id=\"T_de846a74_55ee_11eb_b943_367ddabf8417row4_col3\" class=\"data row4 col3\" >$3.81</td>\n",
       "            </tr>\n",
       "            <tr>\n",
       "                        <th id=\"T_de846a74_55ee_11eb_b943_367ddabf8417level0_row5\" class=\"row_heading level0 row5\" >30-34</th>\n",
       "                        <td id=\"T_de846a74_55ee_11eb_b943_367ddabf8417row5_col0\" class=\"data row5 col0\" >73</td>\n",
       "                        <td id=\"T_de846a74_55ee_11eb_b943_367ddabf8417row5_col1\" class=\"data row5 col1\" >$2.93</td>\n",
       "                        <td id=\"T_de846a74_55ee_11eb_b943_367ddabf8417row5_col2\" class=\"data row5 col2\" >$214.00</td>\n",
       "                        <td id=\"T_de846a74_55ee_11eb_b943_367ddabf8417row5_col3\" class=\"data row5 col3\" >$4.12</td>\n",
       "            </tr>\n",
       "            <tr>\n",
       "                        <th id=\"T_de846a74_55ee_11eb_b943_367ddabf8417level0_row6\" class=\"row_heading level0 row6\" >35-39</th>\n",
       "                        <td id=\"T_de846a74_55ee_11eb_b943_367ddabf8417row6_col0\" class=\"data row6 col0\" >41</td>\n",
       "                        <td id=\"T_de846a74_55ee_11eb_b943_367ddabf8417row6_col1\" class=\"data row6 col1\" >$3.60</td>\n",
       "                        <td id=\"T_de846a74_55ee_11eb_b943_367ddabf8417row6_col2\" class=\"data row6 col2\" >$147.67</td>\n",
       "                        <td id=\"T_de846a74_55ee_11eb_b943_367ddabf8417row6_col3\" class=\"data row6 col3\" >$4.76</td>\n",
       "            </tr>\n",
       "            <tr>\n",
       "                        <th id=\"T_de846a74_55ee_11eb_b943_367ddabf8417level0_row7\" class=\"row_heading level0 row7\" >40+</th>\n",
       "                        <td id=\"T_de846a74_55ee_11eb_b943_367ddabf8417row7_col0\" class=\"data row7 col0\" >13</td>\n",
       "                        <td id=\"T_de846a74_55ee_11eb_b943_367ddabf8417row7_col1\" class=\"data row7 col1\" >$2.94</td>\n",
       "                        <td id=\"T_de846a74_55ee_11eb_b943_367ddabf8417row7_col2\" class=\"data row7 col2\" >$38.24</td>\n",
       "                        <td id=\"T_de846a74_55ee_11eb_b943_367ddabf8417row7_col3\" class=\"data row7 col3\" >$3.19</td>\n",
       "            </tr>\n",
       "    </tbody></table>"
      ],
      "text/plain": [
       "<pandas.io.formats.style.Styler at 0x7fdf2c4f1340>"
      ]
     },
     "execution_count": 823,
     "metadata": {},
     "output_type": "execute_result"
    }
   ],
   "source": [
    "#create summary for purchasing analysis(age)\n",
    "\n",
    "pur_analysis_age=pd.DataFrame({\n",
    "    \"Purchase Count\":(pur_count_col),\n",
    "    \"Average Purchase Price\":(avg_pur_pr),\n",
    "    \"Total Purchase Value\":(tot_pur_value),\n",
    "    \"Avg Total Purchase per Person\":(avg_pur_pp)\n",
    "})\n",
    "\n",
    "pur_analysis_age\n",
    "\n",
    "#formatting\n",
    "\n",
    "\n",
    "pur_analysis_age=pur_analysis_age.style.format({\n",
    "    \"Average Purchase Price\":\"${:,.2f}\",\n",
    "    \"Total Purchase Value\": \"${:,.2f}\",\n",
    "    \"Avg Total Purchase per Person\":\"${:,.2f}\"})\n",
    "\n",
    "#pur_analysis_age\n",
    "#pur_analysis_age[\"Average Purchase Price\"]=pur_analysis_age[\"Average Purchase Price\"].map(\"${:,.3}\".format)\n",
    "#pur_analysis_age[\"Total Purchase Value\"]=pur_analysis_age[\"Total Purchase Value\"].map(\"${:,.3}\".format)\n",
    "#pur_analysis_age[\"Avg Total Purchase per Person\"]=pur_analysis_age[\"Avg Total Purchase per Person\"].map(\"${:,.3}\".format)\n",
    "pur_analysis_age"
   ]
  },
  {
   "cell_type": "markdown",
   "metadata": {},
   "source": [
    "## Top Spenders"
   ]
  },
  {
   "cell_type": "markdown",
   "metadata": {},
   "source": [
    "* Run basic calculations to obtain the results in the table below\n",
    "\n",
    "\n",
    "* Create a summary data frame to hold the results\n",
    "\n",
    "\n",
    "* Sort the total purchase value column in descending order\n",
    "\n",
    "\n",
    "* Optional: give the displayed data cleaner formatting\n",
    "\n",
    "\n",
    "* Display a preview of the summary data frame\n",
    "\n"
   ]
  },
  {
   "cell_type": "code",
   "execution_count": 648,
   "metadata": {},
   "outputs": [],
   "source": [
    "# pull columns i need to show players with most purchases top 5 \n",
    "top_column=purchase_data.loc[:, [\"Price\", \"SN\",\"Item Name\"]]\n",
    "#top_column"
   ]
  },
  {
   "cell_type": "code",
   "execution_count": 647,
   "metadata": {},
   "outputs": [],
   "source": [
    "# groupby by SN\n",
    "sn_purchases=top_column.groupby(\"SN\")\n",
    "#type(sn_purchases)"
   ]
  },
  {
   "cell_type": "code",
   "execution_count": 646,
   "metadata": {},
   "outputs": [],
   "source": [
    "# find purchase count by sn\n",
    "\n",
    "sn_pur_count=sn_purchases[\"Item Name\"].count()\n",
    "#sn_pur_count"
   ]
  },
  {
   "cell_type": "code",
   "execution_count": 644,
   "metadata": {},
   "outputs": [],
   "source": [
    "#avg purchase purchase price\n",
    "\n",
    "sn_avg_pur=sn_purchases[\"Price\"].mean()\n",
    "#sn_avg_pur"
   ]
  },
  {
   "cell_type": "code",
   "execution_count": 645,
   "metadata": {},
   "outputs": [],
   "source": [
    "#total purchase purchase value\n",
    "\n",
    "sn_tot_pur=sn_purchases[\"Price\"].sum()\n",
    "#sn_tot_pur"
   ]
  },
  {
   "cell_type": "code",
   "execution_count": 655,
   "metadata": {},
   "outputs": [
    {
     "name": "stderr",
     "output_type": "stream",
     "text": [
      "<ipython-input-655-da3ae8e44abf>:19: SettingWithCopyWarning: \n",
      "A value is trying to be set on a copy of a slice from a DataFrame.\n",
      "Try using .loc[row_indexer,col_indexer] = value instead\n",
      "\n",
      "See the caveats in the documentation: https://pandas.pydata.org/pandas-docs/stable/user_guide/indexing.html#returning-a-view-versus-a-copy\n",
      "  final_top_spender[\"Average Purchase Price\"]=final_top_spender[\"Average Purchase Price\"].map(\"${:,.3}\".format)\n",
      "<ipython-input-655-da3ae8e44abf>:20: SettingWithCopyWarning: \n",
      "A value is trying to be set on a copy of a slice from a DataFrame.\n",
      "Try using .loc[row_indexer,col_indexer] = value instead\n",
      "\n",
      "See the caveats in the documentation: https://pandas.pydata.org/pandas-docs/stable/user_guide/indexing.html#returning-a-view-versus-a-copy\n",
      "  final_top_spender[\"Total Purchase Value\"]=final_top_spender[\"Total Purchase Value\"].map(\"${:,.4}\".format)\n"
     ]
    },
    {
     "data": {
      "text/html": [
       "<div>\n",
       "<style scoped>\n",
       "    .dataframe tbody tr th:only-of-type {\n",
       "        vertical-align: middle;\n",
       "    }\n",
       "\n",
       "    .dataframe tbody tr th {\n",
       "        vertical-align: top;\n",
       "    }\n",
       "\n",
       "    .dataframe thead th {\n",
       "        text-align: right;\n",
       "    }\n",
       "</style>\n",
       "<table border=\"1\" class=\"dataframe\">\n",
       "  <thead>\n",
       "    <tr style=\"text-align: right;\">\n",
       "      <th></th>\n",
       "      <th>Purchase Count</th>\n",
       "      <th>Average Purchase Price</th>\n",
       "      <th>Total Purchase Value</th>\n",
       "    </tr>\n",
       "    <tr>\n",
       "      <th>SN</th>\n",
       "      <th></th>\n",
       "      <th></th>\n",
       "      <th></th>\n",
       "    </tr>\n",
       "  </thead>\n",
       "  <tbody>\n",
       "    <tr>\n",
       "      <th>Lisosia93</th>\n",
       "      <td>5</td>\n",
       "      <td>$3.79</td>\n",
       "      <td>$18.96</td>\n",
       "    </tr>\n",
       "    <tr>\n",
       "      <th>Idastidru52</th>\n",
       "      <td>4</td>\n",
       "      <td>$3.86</td>\n",
       "      <td>$15.45</td>\n",
       "    </tr>\n",
       "    <tr>\n",
       "      <th>Chamjask73</th>\n",
       "      <td>3</td>\n",
       "      <td>$4.61</td>\n",
       "      <td>$13.83</td>\n",
       "    </tr>\n",
       "    <tr>\n",
       "      <th>Iral74</th>\n",
       "      <td>4</td>\n",
       "      <td>$3.4</td>\n",
       "      <td>$13.62</td>\n",
       "    </tr>\n",
       "    <tr>\n",
       "      <th>Iskadarya95</th>\n",
       "      <td>3</td>\n",
       "      <td>$4.37</td>\n",
       "      <td>$13.1</td>\n",
       "    </tr>\n",
       "  </tbody>\n",
       "</table>\n",
       "</div>"
      ],
      "text/plain": [
       "             Purchase Count Average Purchase Price Total Purchase Value\n",
       "SN                                                                     \n",
       "Lisosia93                 5                  $3.79               $18.96\n",
       "Idastidru52               4                  $3.86               $15.45\n",
       "Chamjask73                3                  $4.61               $13.83\n",
       "Iral74                    4                   $3.4               $13.62\n",
       "Iskadarya95               3                  $4.37                $13.1"
      ]
     },
     "execution_count": 655,
     "metadata": {},
     "output_type": "execute_result"
    }
   ],
   "source": [
    "#create summary table\n",
    "\n",
    "top_spenders=pd.DataFrame({\n",
    "    \"Purchase Count\": (sn_pur_count),\n",
    "    \"Average Purchase Price\": (sn_avg_pur),\n",
    "    \"Total Purchase Value\": (sn_tot_pur)\n",
    "})      \n",
    "\n",
    "top_spenders\n",
    "\n",
    "#sorted total purchase value high to low\n",
    "\n",
    "sort_top_spender=top_spenders.sort_values(\"Total Purchase Value\",ascending=False)\n",
    "final_top_spender=sort_top_spender.head()\n",
    "final_top_spender\n",
    "\n",
    "#formattings\n",
    "\n",
    "final_top_spender[\"Average Purchase Price\"]=final_top_spender[\"Average Purchase Price\"].map(\"${:,.3}\".format)\n",
    "final_top_spender[\"Total Purchase Value\"]=final_top_spender[\"Total Purchase Value\"].map(\"${:,.4}\".format)\n",
    "final_top_spender"
   ]
  },
  {
   "cell_type": "markdown",
   "metadata": {},
   "source": [
    "## Most Popular Items"
   ]
  },
  {
   "cell_type": "markdown",
   "metadata": {},
   "source": [
    "* Retrieve the Item ID, Item Name, and Item Price columns\n",
    "\n",
    "\n",
    "* Group by Item ID and Item Name. Perform calculations to obtain purchase count, average item price, and total purchase value\n",
    "\n",
    "\n",
    "* Create a summary data frame to hold the results\n",
    "\n",
    "\n",
    "* Sort the purchase count column in descending order\n",
    "\n",
    "\n",
    "* Optional: give the displayed data cleaner formatting\n",
    "\n",
    "\n",
    "* Display a preview of the summary data frame\n",
    "\n"
   ]
  },
  {
   "cell_type": "code",
   "execution_count": 763,
   "metadata": {},
   "outputs": [],
   "source": [
    "#pull columns i need\n",
    "pop_col=purchase_data.loc[:, [\"Price\", \"Item ID\",\"Item Name\"]]\n",
    "pop_col\n",
    "\n",
    "grouped_multiple=pop_col.groupby([\"Item ID\", \"Item Name\"])\n",
    "#grouped_multiple"
   ]
  },
  {
   "cell_type": "code",
   "execution_count": 762,
   "metadata": {},
   "outputs": [],
   "source": [
    "#purchase count\n",
    "pop_purchase=grouped_multiple[\"Price\"].count()\n",
    "#print(pop_purchase)\n"
   ]
  },
  {
   "cell_type": "code",
   "execution_count": 850,
   "metadata": {},
   "outputs": [],
   "source": [
    "#item price\n",
    "pop_item_price=grouped_multiple[\"Price\"].mean()\n",
    "#print(pop_item_price)"
   ]
  },
  {
   "cell_type": "code",
   "execution_count": 788,
   "metadata": {},
   "outputs": [],
   "source": [
    "#total purchase value\n",
    "pop_tot_value=grouped_multiple[\"Price\"].sum()\n",
    "#print(pop_tot_value)"
   ]
  },
  {
   "cell_type": "code",
   "execution_count": 870,
   "metadata": {},
   "outputs": [
    {
     "data": {
      "text/html": [
       "<div>\n",
       "<style scoped>\n",
       "    .dataframe tbody tr th:only-of-type {\n",
       "        vertical-align: middle;\n",
       "    }\n",
       "\n",
       "    .dataframe tbody tr th {\n",
       "        vertical-align: top;\n",
       "    }\n",
       "\n",
       "    .dataframe thead th {\n",
       "        text-align: right;\n",
       "    }\n",
       "</style>\n",
       "<table border=\"1\" class=\"dataframe\">\n",
       "  <thead>\n",
       "    <tr style=\"text-align: right;\">\n",
       "      <th></th>\n",
       "      <th></th>\n",
       "      <th>Purchase Count</th>\n",
       "      <th>Item Price</th>\n",
       "      <th>Total Purchase Value</th>\n",
       "    </tr>\n",
       "    <tr>\n",
       "      <th>Item ID</th>\n",
       "      <th>Item Name</th>\n",
       "      <th></th>\n",
       "      <th></th>\n",
       "      <th></th>\n",
       "    </tr>\n",
       "  </thead>\n",
       "  <tbody>\n",
       "    <tr>\n",
       "      <th>92</th>\n",
       "      <th>Final Critic</th>\n",
       "      <td>13</td>\n",
       "      <td>$4.61</td>\n",
       "      <td>$59.99</td>\n",
       "    </tr>\n",
       "    <tr>\n",
       "      <th>178</th>\n",
       "      <th>Oathbreaker, Last Hope of the Breaking Storm</th>\n",
       "      <td>12</td>\n",
       "      <td>$4.23</td>\n",
       "      <td>$50.76</td>\n",
       "    </tr>\n",
       "    <tr>\n",
       "      <th>145</th>\n",
       "      <th>Fiery Glass Crusader</th>\n",
       "      <td>9</td>\n",
       "      <td>$4.58</td>\n",
       "      <td>$41.22</td>\n",
       "    </tr>\n",
       "    <tr>\n",
       "      <th>132</th>\n",
       "      <th>Persuasion</th>\n",
       "      <td>9</td>\n",
       "      <td>$3.22</td>\n",
       "      <td>$28.99</td>\n",
       "    </tr>\n",
       "    <tr>\n",
       "      <th>108</th>\n",
       "      <th>Extraction, Quickblade Of Trembling Hands</th>\n",
       "      <td>9</td>\n",
       "      <td>$3.53</td>\n",
       "      <td>$31.77</td>\n",
       "    </tr>\n",
       "  </tbody>\n",
       "</table>\n",
       "</div>"
      ],
      "text/plain": [
       "                                                      Purchase Count  \\\n",
       "Item ID Item Name                                                      \n",
       "92      Final Critic                                              13   \n",
       "178     Oathbreaker, Last Hope of the Breaking Storm              12   \n",
       "145     Fiery Glass Crusader                                       9   \n",
       "132     Persuasion                                                 9   \n",
       "108     Extraction, Quickblade Of Trembling Hands                  9   \n",
       "\n",
       "                                                     Item Price  \\\n",
       "Item ID Item Name                                                 \n",
       "92      Final Critic                                      $4.61   \n",
       "178     Oathbreaker, Last Hope of the Breaking Storm      $4.23   \n",
       "145     Fiery Glass Crusader                              $4.58   \n",
       "132     Persuasion                                        $3.22   \n",
       "108     Extraction, Quickblade Of Trembling Hands         $3.53   \n",
       "\n",
       "                                                     Total Purchase Value  \n",
       "Item ID Item Name                                                          \n",
       "92      Final Critic                                               $59.99  \n",
       "178     Oathbreaker, Last Hope of the Breaking Storm               $50.76  \n",
       "145     Fiery Glass Crusader                                       $41.22  \n",
       "132     Persuasion                                                 $28.99  \n",
       "108     Extraction, Quickblade Of Trembling Hands                  $31.77  "
      ]
     },
     "execution_count": 870,
     "metadata": {},
     "output_type": "execute_result"
    }
   ],
   "source": [
    "#create summary table\n",
    "\n",
    "pop_summary= pd.DataFrame({\n",
    "    \"Purchase Count\":(pop_purchase),\n",
    "    \"Item Price\":(pop_item_price),\n",
    "    \"Total Purchase Value\":(pop_tot_value)\n",
    "})\n",
    "\n",
    "pop_summary\n",
    "\n",
    "\n",
    "#formatting\n",
    "\n",
    "pop_summary[\"Item Price\"]=pop_summary[\"Item Price\"].map(\"${:,.3}\".format)\n",
    "pop_summary[\"Total Purchase Value\"]=pop_summary[\"Total Purchase Value\"].map(\"${:,.2f}\".format)\n",
    "pop_summary\n",
    "\n",
    "\n",
    "#sorted purchase count  high to low\n",
    "\n",
    "pop_summary_sort=pop_summary.sort_values(\"Purchase Count\",ascending=False)\n",
    "final_pop_summary=pop_summary_sort.head()\n",
    "final_pop_summary\n",
    "\n"
   ]
  },
  {
   "cell_type": "markdown",
   "metadata": {},
   "source": [
    "## Most Profitable Items"
   ]
  },
  {
   "cell_type": "markdown",
   "metadata": {},
   "source": [
    "* Sort the above table by total purchase value in descending order\n",
    "\n",
    "\n",
    "* Optional: give the displayed data cleaner formatting\n",
    "\n",
    "\n",
    "* Display a preview of the data frame\n",
    "\n"
   ]
  },
  {
   "cell_type": "code",
   "execution_count": 871,
   "metadata": {},
   "outputs": [
    {
     "data": {
      "text/html": [
       "<div>\n",
       "<style scoped>\n",
       "    .dataframe tbody tr th:only-of-type {\n",
       "        vertical-align: middle;\n",
       "    }\n",
       "\n",
       "    .dataframe tbody tr th {\n",
       "        vertical-align: top;\n",
       "    }\n",
       "\n",
       "    .dataframe thead th {\n",
       "        text-align: right;\n",
       "    }\n",
       "</style>\n",
       "<table border=\"1\" class=\"dataframe\">\n",
       "  <thead>\n",
       "    <tr style=\"text-align: right;\">\n",
       "      <th></th>\n",
       "      <th></th>\n",
       "      <th>Purchase Count</th>\n",
       "      <th>Item Price</th>\n",
       "      <th>Total Purchase Value</th>\n",
       "    </tr>\n",
       "    <tr>\n",
       "      <th>Item ID</th>\n",
       "      <th>Item Name</th>\n",
       "      <th></th>\n",
       "      <th></th>\n",
       "      <th></th>\n",
       "    </tr>\n",
       "  </thead>\n",
       "  <tbody>\n",
       "    <tr>\n",
       "      <th>92</th>\n",
       "      <th>Final Critic</th>\n",
       "      <td>13</td>\n",
       "      <td>$4.61</td>\n",
       "      <td>$59.99</td>\n",
       "    </tr>\n",
       "    <tr>\n",
       "      <th>178</th>\n",
       "      <th>Oathbreaker, Last Hope of the Breaking Storm</th>\n",
       "      <td>12</td>\n",
       "      <td>$4.23</td>\n",
       "      <td>$50.76</td>\n",
       "    </tr>\n",
       "    <tr>\n",
       "      <th>82</th>\n",
       "      <th>Nirvana</th>\n",
       "      <td>9</td>\n",
       "      <td>$4.9</td>\n",
       "      <td>$44.10</td>\n",
       "    </tr>\n",
       "    <tr>\n",
       "      <th>145</th>\n",
       "      <th>Fiery Glass Crusader</th>\n",
       "      <td>9</td>\n",
       "      <td>$4.58</td>\n",
       "      <td>$41.22</td>\n",
       "    </tr>\n",
       "    <tr>\n",
       "      <th>108</th>\n",
       "      <th>Extraction, Quickblade Of Trembling Hands</th>\n",
       "      <td>9</td>\n",
       "      <td>$3.53</td>\n",
       "      <td>$31.77</td>\n",
       "    </tr>\n",
       "  </tbody>\n",
       "</table>\n",
       "</div>"
      ],
      "text/plain": [
       "                                                      Purchase Count  \\\n",
       "Item ID Item Name                                                      \n",
       "92      Final Critic                                              13   \n",
       "178     Oathbreaker, Last Hope of the Breaking Storm              12   \n",
       "82      Nirvana                                                    9   \n",
       "145     Fiery Glass Crusader                                       9   \n",
       "108     Extraction, Quickblade Of Trembling Hands                  9   \n",
       "\n",
       "                                                     Item Price  \\\n",
       "Item ID Item Name                                                 \n",
       "92      Final Critic                                      $4.61   \n",
       "178     Oathbreaker, Last Hope of the Breaking Storm      $4.23   \n",
       "82      Nirvana                                            $4.9   \n",
       "145     Fiery Glass Crusader                              $4.58   \n",
       "108     Extraction, Quickblade Of Trembling Hands         $3.53   \n",
       "\n",
       "                                                     Total Purchase Value  \n",
       "Item ID Item Name                                                          \n",
       "92      Final Critic                                               $59.99  \n",
       "178     Oathbreaker, Last Hope of the Breaking Storm               $50.76  \n",
       "82      Nirvana                                                    $44.10  \n",
       "145     Fiery Glass Crusader                                       $41.22  \n",
       "108     Extraction, Quickblade Of Trembling Hands                  $31.77  "
      ]
     },
     "execution_count": 871,
     "metadata": {},
     "output_type": "execute_result"
    }
   ],
   "source": [
    "#create summary table\n",
    "\n",
    "most_profit=pop_summary.sort_values(by = [\"Purchase Count\",\"Total Purchase Value\"],ascending=False)\n",
    "most_profit.head()"
   ]
  }
 ],
 "metadata": {
  "anaconda-cloud": {},
  "kernel_info": {
   "name": "python3"
  },
  "kernelspec": {
   "display_name": "Python 3",
   "language": "python",
   "name": "python3"
  },
  "language_info": {
   "codemirror_mode": {
    "name": "ipython",
    "version": 3
   },
   "file_extension": ".py",
   "mimetype": "text/x-python",
   "name": "python",
   "nbconvert_exporter": "python",
   "pygments_lexer": "ipython3",
   "version": "3.8.5"
  },
  "latex_envs": {
   "LaTeX_envs_menu_present": true,
   "autoclose": false,
   "autocomplete": true,
   "bibliofile": "biblio.bib",
   "cite_by": "apalike",
   "current_citInitial": 1,
   "eqLabelWithNumbers": true,
   "eqNumInitial": 1,
   "hotkeys": {
    "equation": "Ctrl-E",
    "itemize": "Ctrl-I"
   },
   "labels_anchors": false,
   "latex_user_defs": false,
   "report_style_numbering": false,
   "user_envs_cfg": false
  },
  "nteract": {
   "version": "0.2.0"
  }
 },
 "nbformat": 4,
 "nbformat_minor": 2
}
